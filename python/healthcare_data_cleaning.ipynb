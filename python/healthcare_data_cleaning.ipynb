{
 "cells": [
  {
   "cell_type": "code",
   "execution_count": 5,
   "id": "885e3bc7-4363-45e2-b292-9c91e940dda5",
   "metadata": {},
   "outputs": [
    {
     "name": "stdout",
     "output_type": "stream",
     "text": [
      "✅ Cleaned CSVs saved!\n"
     ]
    }
   ],
   "source": [
    "import pandas as pd\n",
    "\n",
    "#load dataset\n",
    "df = pd.read_csv(r'/Users/bhoomikaharkhani/Downloads/noshowappointments.csv')\n",
    "\n",
    "#rename columns for consistency\n",
    "df = df.rename(columns = {\n",
    "    'PatientId': 'patient_id',\n",
    "    'AppointmentID': 'appointment_id',\n",
    "    'Gender': 'gender',\n",
    "    'ScheduledDay': 'scheduled_day',\n",
    "    'AppointmentDay': 'appointment_day',\n",
    "    'Age': 'age',\n",
    "    'Neighbourhood': 'neighbourhood',\n",
    "    'Scholarship': 'scholarship',\n",
    "    'Hipertension': 'hypertension',\n",
    "    'Diabetes': 'diabetes',\n",
    "    'Alcoholism': 'alcoholism',\n",
    "    'Handcap': 'handicap',\n",
    "    'SMS_received': 'sms_received',\n",
    "    'No-show': 'no_show'\n",
    "})\n",
    "\n",
    "#convert no-show to 0/1\n",
    "df['no_show'] = df['no_show'].map({'No': 0, 'Yes': 1})\n",
    "\n",
    "#convert datetime columns\n",
    "df['scheduled_day'] = pd.to_datetime(df['scheduled_day']).dt.tz_localize(None)\n",
    "df['appointment_day'] = pd.to_datetime(df['appointment_day']).dt.date\n",
    "\n",
    "#clean binary columns\n",
    "binary_fields = ['scholarship','hypertension','diabetes','alcoholism','handicap','sms_received','no_show']\n",
    "df[binary_fields] = df[binary_fields].astype(int)\n",
    "\n",
    "#drop duplicate on appointment_id\n",
    "df = df.drop_duplicates(subset = ['appointment_id'])\n",
    "\n",
    "#create dim_patient\n",
    "dim_patient = df[['patient_id', 'gender', 'age', 'scholarship', 'hypertension', 'diabetes', 'alcoholism', 'handicap']].drop_duplicates()\n",
    "\n",
    "#create dim_location\n",
    "dim_location = df[['neighbourhood']].drop_duplicates().reset_index(drop=True)\n",
    "dim_location['location_id'] = dim_location.index + 1\n",
    "\n",
    "#merge to add locatoin id\n",
    "df = df.merge(dim_location, on = 'neighbourhood', how='left')\n",
    "\n",
    "#create face appointment\n",
    "fact_appointment = df[['appointment_id', 'patient_id', 'location_id', 'scheduled_day', 'appointment_day', 'sms_received', 'no_show']]\n",
    "\n",
    "#save files\n",
    "dim_patient.to_csv('dim_patient.csv', index=False, encoding=\"utf-8\")\n",
    "dim_location.to_csv('dim_location.csv', index=False, encoding=\"utf-8\")\n",
    "fact_appointment.to_csv('fact_appointment.csv', index=False, encoding=\"utf-8\")\n",
    "\n",
    "print(\"✅ Cleaned CSVs saved!\")"
   ]
  },
  {
   "cell_type": "code",
   "execution_count": 6,
   "id": "d27bff2e-d755-4e4d-9550-c88fcd687241",
   "metadata": {},
   "outputs": [],
   "source": [
    "import pandas as pd\n",
    "\n",
    "# Load the CSV\n",
    "df = pd.read_csv(\"dim_patient_ascii_clean.csv\")\n",
    "\n",
    "# Drop duplicate patient_id values, keeping the first occurrence\n",
    "df_unique = df.drop_duplicates(subset=\"patient_id\", keep=\"first\")\n",
    "\n",
    "# Save the cleaned file\n",
    "df_unique.to_csv(\"dim_patient_cleaned.csv\", index=False)\n"
   ]
  },
  {
   "cell_type": "code",
   "execution_count": null,
   "id": "2e691e0c-9789-4cce-b2bb-7f7533bfc366",
   "metadata": {},
   "outputs": [],
   "source": []
  },
  {
   "cell_type": "code",
   "execution_count": null,
   "id": "1cad7cc5-2b7b-4bf0-8667-dd0a0daa327a",
   "metadata": {},
   "outputs": [],
   "source": []
  },
  {
   "cell_type": "code",
   "execution_count": null,
   "id": "eba2f051-30f9-44c0-9a49-b7477f2ecd1c",
   "metadata": {},
   "outputs": [],
   "source": []
  },
  {
   "cell_type": "code",
   "execution_count": null,
   "id": "59ed6ba3-7a5f-499f-b869-65b14e0e4f2a",
   "metadata": {},
   "outputs": [],
   "source": []
  }
 ],
 "metadata": {
  "kernelspec": {
   "display_name": "Python [conda env:base] *",
   "language": "python",
   "name": "conda-base-py"
  },
  "language_info": {
   "codemirror_mode": {
    "name": "ipython",
    "version": 3
   },
   "file_extension": ".py",
   "mimetype": "text/x-python",
   "name": "python",
   "nbconvert_exporter": "python",
   "pygments_lexer": "ipython3",
   "version": "3.12.7"
  }
 },
 "nbformat": 4,
 "nbformat_minor": 5
}
